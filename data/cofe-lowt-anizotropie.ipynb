{
 "cells": [
  {
   "cell_type": "code",
   "execution_count": 1,
   "id": "d38a3604",
   "metadata": {},
   "outputs": [],
   "source": [
    "import anal as pm\n",
    "\n",
    "import numpy as np\n",
    "import matplotlib.pyplot as plt\n",
    "import matplotlib.colors as colors\n",
    "import matplotlib.patches as patches\n",
    "from mpl_toolkits.axes_grid1 import make_axes_locatable\n",
    "  \n",
    "\n",
    "\n",
    "import numdifftools as nd\n",
    "\n",
    "import locale\n",
    "locale.setlocale(locale.LC_ALL, 'de_DE.utf8')\n",
    "plt.rcParams['axes.formatter.use_locale'] = True"
   ]
  },
  {
   "cell_type": "code",
   "execution_count": 2,
   "id": "3fd78139",
   "metadata": {},
   "outputs": [],
   "source": [
    "plt.rc('font', size=10) #controls default text size\n",
    "plt.rc('axes', titlesize=8) #fontsize of the title\n",
    "plt.rc('axes', labelsize=10) #fontsize of the x and y labels\n",
    "plt.rc('xtick', labelsize=8) #fontsize of the x tick labels\n",
    "plt.rc('ytick', labelsize=8) #fontsize of the y tick labels\n",
    "plt.rc('legend', fontsize=8) #fontsize of the legend"
   ]
  },
  {
   "cell_type": "code",
   "execution_count": 3,
   "id": "ad1be85a",
   "metadata": {},
   "outputs": [
    {
     "name": "stdout",
     "output_type": "stream",
     "text": [
      "loading set: 0\n",
      "loading set: 1\n",
      "loading set: 2\n",
      "loading set: 3\n",
      "loading set: 4\n",
      "loading set: 5\n",
      "loading set: 6\n",
      "loading set: 7\n",
      "loading set: 8\n",
      "preprocessing set: 0\n",
      "preprocessing set: 1\n",
      "preprocessing set: 2\n",
      "preprocessing set: 3\n",
      "preprocessing set: 4\n",
      "preprocessing set: 5\n",
      "preprocessing set: 6\n",
      "preprocessing set: 7\n",
      "preprocessing set: 8\n",
      "processing set: 0\n",
      "processing set: 1\n",
      "processing set: 2\n",
      "processing set: 3\n",
      "processing set: 4\n",
      "processing set: 5\n",
      "processing set: 6\n",
      "processing set: 7\n",
      "processing set: 8\n"
     ]
    },
    {
     "data": {
      "text/html": [
       "<div>\n",
       "<style scoped>\n",
       "    .dataframe tbody tr th:only-of-type {\n",
       "        vertical-align: middle;\n",
       "    }\n",
       "\n",
       "    .dataframe tbody tr th {\n",
       "        vertical-align: top;\n",
       "    }\n",
       "\n",
       "    .dataframe thead th {\n",
       "        text-align: right;\n",
       "    }\n",
       "</style>\n",
       "<table border=\"1\" class=\"dataframe\">\n",
       "  <thead>\n",
       "    <tr style=\"text-align: right;\">\n",
       "      <th></th>\n",
       "      <th>set</th>\n",
       "      <th>obj</th>\n",
       "      <th>wavelength</th>\n",
       "      <th>flags</th>\n",
       "      <th>sample_rotation</th>\n",
       "      <th>hext</th>\n",
       "    </tr>\n",
       "  </thead>\n",
       "  <tbody>\n",
       "    <tr>\n",
       "      <th>0</th>\n",
       "      <td>0460</td>\n",
       "      <td>&lt;anal.file_import.SetRotmld o...</td>\n",
       "      <td>460</td>\n",
       "      <td>None</td>\n",
       "      <td>0</td>\n",
       "      <td>207</td>\n",
       "    </tr>\n",
       "    <tr>\n",
       "      <th>1</th>\n",
       "      <td>0530</td>\n",
       "      <td>&lt;anal.file_import.SetRotmld o...</td>\n",
       "      <td>530</td>\n",
       "      <td>None</td>\n",
       "      <td>0</td>\n",
       "      <td>207</td>\n",
       "    </tr>\n",
       "    <tr>\n",
       "      <th>2</th>\n",
       "      <td>0620</td>\n",
       "      <td>&lt;anal.file_import.SetRotmld o...</td>\n",
       "      <td>620</td>\n",
       "      <td>None</td>\n",
       "      <td>0</td>\n",
       "      <td>207</td>\n",
       "    </tr>\n",
       "    <tr>\n",
       "      <th>3</th>\n",
       "      <td>0710</td>\n",
       "      <td>&lt;anal.file_import.SetRotmld o...</td>\n",
       "      <td>710</td>\n",
       "      <td>None</td>\n",
       "      <td>0</td>\n",
       "      <td>207</td>\n",
       "    </tr>\n",
       "    <tr>\n",
       "      <th>4</th>\n",
       "      <td>0810</td>\n",
       "      <td>&lt;anal.file_import.SetRotmld o...</td>\n",
       "      <td>810</td>\n",
       "      <td>None</td>\n",
       "      <td>0</td>\n",
       "      <td>207</td>\n",
       "    </tr>\n",
       "    <tr>\n",
       "      <th>5</th>\n",
       "      <td>0920</td>\n",
       "      <td>&lt;anal.file_import.SetRotmld o...</td>\n",
       "      <td>920</td>\n",
       "      <td>None</td>\n",
       "      <td>0</td>\n",
       "      <td>207</td>\n",
       "    </tr>\n",
       "    <tr>\n",
       "      <th>6</th>\n",
       "      <td>1050</td>\n",
       "      <td>&lt;anal.file_import.SetRotmld o...</td>\n",
       "      <td>1050</td>\n",
       "      <td>None</td>\n",
       "      <td>0</td>\n",
       "      <td>207</td>\n",
       "    </tr>\n",
       "    <tr>\n",
       "      <th>7</th>\n",
       "      <td>1200</td>\n",
       "      <td>&lt;anal.file_import.SetRotmld o...</td>\n",
       "      <td>1200</td>\n",
       "      <td>None</td>\n",
       "      <td>0</td>\n",
       "      <td>207</td>\n",
       "    </tr>\n",
       "    <tr>\n",
       "      <th>8</th>\n",
       "      <td>1450</td>\n",
       "      <td>&lt;anal.file_import.SetRotmld o...</td>\n",
       "      <td>1450</td>\n",
       "      <td>None</td>\n",
       "      <td>0</td>\n",
       "      <td>207</td>\n",
       "    </tr>\n",
       "  </tbody>\n",
       "</table>\n",
       "</div>"
      ],
      "text/plain": [
       "    set                                                obj  wavelength flags  \\\n",
       "0  0460  <anal.file_import.SetRotmld o...         460  None   \n",
       "1  0530  <anal.file_import.SetRotmld o...         530  None   \n",
       "2  0620  <anal.file_import.SetRotmld o...         620  None   \n",
       "3  0710  <anal.file_import.SetRotmld o...         710  None   \n",
       "4  0810  <anal.file_import.SetRotmld o...         810  None   \n",
       "5  0920  <anal.file_import.SetRotmld o...         920  None   \n",
       "6  1050  <anal.file_import.SetRotmld o...        1050  None   \n",
       "7  1200  <anal.file_import.SetRotmld o...        1200  None   \n",
       "8  1450  <anal.file_import.SetRotmld o...        1450  None   \n",
       "\n",
       "   sample_rotation  hext  \n",
       "0                0   207  \n",
       "1                0   207  \n",
       "2                0   207  \n",
       "3                0   207  \n",
       "4                0   207  \n",
       "5                0   207  \n",
       "6                0   207  \n",
       "7                0   207  \n",
       "8                0   207  "
      ]
     },
     "execution_count": 3,
     "metadata": {},
     "output_type": "execute_result"
    }
   ],
   "source": [
    "f = pm.cofe_low_t()\n",
    "f.load()\n",
    "f.preprocess()\n",
    "f.process()\n",
    "f.df"
   ]
  },
  {
   "cell_type": "code",
   "execution_count": 4,
   "id": "4c77e67f",
   "metadata": {},
   "outputs": [
    {
     "name": "stdout",
     "output_type": "stream",
     "text": [
      "analyzing set: 0\n",
      "analyzing set: 1\n",
      "analyzing set: 2\n",
      "analyzing set: 3\n",
      "analyzing set: 4\n",
      "analyzing set: 5\n",
      "analyzing set: 6\n",
      "analyzing set: 7\n",
      "analyzing set: 8\n",
      "postprocessing\n"
     ]
    }
   ],
   "source": [
    "f.analyze()"
   ]
  },
  {
   "cell_type": "code",
   "execution_count": 5,
   "id": "ebb0fd15",
   "metadata": {},
   "outputs": [
    {
     "name": "stdout",
     "output_type": "stream",
     "text": [
      "[ 4.88654881e+00 -4.62338314e+00 -5.48153928e+00 -5.15047206e-03]\n",
      "[ 4.66043078 -3.18373295 -3.95232864  0.25019084]\n",
      "[ 4.07830805 -3.42364399 -4.66767583  0.55866511]\n",
      "[ 4.67938337 -3.25009501 -4.49573858  0.60020764]\n",
      "[ 3.45822642 -3.49246938 -4.74122419  0.3884702 ]\n",
      "[ 4.59883763 -3.61556664 -4.57859831  0.40149458]\n",
      "[ 4.10737195 -3.5664142  -4.51415247  0.62160929]\n",
      "[ 3.8990756  -3.09054083 -4.5792047   0.61871315]\n",
      "[ 4.53156667 -3.48373908 -4.60500636  0.61079088]\n"
     ]
    }
   ],
   "source": [
    "for ff in f:\n",
    "    print(ff.fit_anisotropy.results.x)"
   ]
  },
  {
   "cell_type": "code",
   "execution_count": 6,
   "id": "e0049470",
   "metadata": {},
   "outputs": [],
   "source": [
    "npoints = 50\n",
    "\n",
    "ex1 = [3.3*2, 5.3*2]\n",
    "ey1 = [-4.6*2,-2.6*2]\n",
    "\n",
    "x1 = np.linspace(*ex1, npoints)\n",
    "y1 = np.linspace(*ey1, npoints)\n",
    "xx1, yy1 = np.meshgrid(x1, y1)\n",
    "\n",
    "ex2 = [-4.9*8, -4.2*8]\n",
    "ey2 = [0.1*8, 0.8*8]\n",
    "\n",
    "x2 = np.linspace(*ex2, npoints)\n",
    "y2 = np.linspace(*ey2, npoints)\n",
    "xx2, yy2 = np.meshgrid(x2, y2)\n",
    "\n",
    "dof = 25"
   ]
  },
  {
   "cell_type": "code",
   "execution_count": 7,
   "id": "fa935080",
   "metadata": {},
   "outputs": [
    {
     "name": "stdout",
     "output_type": "stream",
     "text": [
      "0\n",
      "1\n",
      "2\n",
      "3\n",
      "4\n",
      "5\n",
      "6\n",
      "7\n",
      "8\n"
     ]
    }
   ],
   "source": [
    "def g1(x,y,num):\n",
    "    k = f[num].fit_anisotropy.results.x\n",
    "    return f[num].fit_anisotropy.obj([x/2,y/2,k[2],k[3]])\n",
    "def g2(x,y,num):\n",
    "    k = f[num].fit_anisotropy.results.x\n",
    "    return f[num].fit_anisotropy.obj([k[0],k[1],x/8,y/8])\n",
    "\n",
    "def gglev(num):\n",
    "    ssr = f[num].fit_anisotropy.obj(f[num].fit_anisotropy.results.x)\n",
    "    return ssr*(1+4./dof)\n",
    "\n",
    "def gg1(num):\n",
    "    return np.vectorize(g1)(xx1,yy1,num)\n",
    "    \n",
    "def gg2(num):\n",
    "    return np.vectorize(g2)(xx2,yy2,num)\n",
    "\n",
    "zz1=[]\n",
    "zz2=[]\n",
    "lev=[]\n",
    "for i in range(9):\n",
    "    print(i)\n",
    "    zz1 += [gg1(i)]\n",
    "    zz2 += [gg2(i)]\n",
    "    lev += [gglev(i)]"
   ]
  },
  {
   "cell_type": "code",
   "execution_count": 8,
   "id": "abfc8729",
   "metadata": {},
   "outputs": [
    {
     "name": "stdout",
     "output_type": "stream",
     "text": [
      "1\n",
      "2\n",
      "3\n",
      "4\n",
      "5\n",
      "6\n",
      "7\n",
      "8\n"
     ]
    },
    {
     "data": {
      "image/png": "[encoded data removed]",
      "text/plain": [
       "<Figure size 374.4x129.6 with 2 Axes>"
      ]
     },
     "metadata": {
      "needs_background": "light"
     },
     "output_type": "display_data"
    }
   ],
   "source": [
    "fig, (ax1, ax2) = plt.subplots(1,2, constrained_layout=True, figsize=(5.2,1.8))\n",
    "arts=[]\n",
    "labels=[]\n",
    "for i in [1,2,3,4,5,6,7,8]:\n",
    "    print(i)\n",
    "    ax1.contour(xx1,yy1,zz1[i], levels=[lev[i]], colors='C'+str(i))\n",
    "    ax2.contour(xx2,yy2,zz2[i], levels=[lev[i]], colors='C'+str(i))\n",
    "    arts+=[patches.Ellipse((0,0),1,1,fill=False,edgecolor='C'+str(i))]\n",
    "    labels+=[str(f.df['wavelength'].iloc[i])]\n",
    "ax1.set_aspect(1)\n",
    "ax2.set_aspect(1)\n",
    "\n",
    "\n",
    "ax1.set_xlabel(r\"$\\operatorname{Re} \\tilde{k}_u$ (mT)\")\n",
    "ax2.set_xlabel(r\"$\\operatorname{Re} \\tilde{k}_4$ (mT)\")\n",
    "ax1.set_ylabel(r\"$\\operatorname{Im} \\tilde{k}_u$ (mT)\")\n",
    "ax2.set_ylabel(r\"$\\operatorname{Im} \\tilde{k}_4$ (mT)\")\n",
    "\n",
    "plt.legend(arts,labels,title=r'$\\lambda$ (nm)', borderpad=0.2, labelspacing=0.1, bbox_to_anchor=(1.8,1))\n",
    "\n",
    "ax1.text(-0.1, 1.08, \"(a)\", transform=ax1.transAxes)\n",
    "ax2.text(-0.1, 1.08, \"(b)\", transform=ax2.transAxes)\n",
    "\n",
    "fig.savefig('out/cofe-lowt-anizotropie.pdf')"
   ]
  },
  {
   "cell_type": "code",
   "execution_count": null,
   "id": "9c289ffe",
   "metadata": {},
   "outputs": [],
   "source": []
  }
 ],
 "metadata": {
  "kernelspec": {
   "display_name": "Python 3 (ipykernel)",
   "language": "python",
   "name": "python3"
  },
  "language_info": {
   "codemirror_mode": {
    "name": "ipython",
    "version": 3
   },
   "file_extension": ".py",
   "mimetype": "text/x-python",
   "name": "python",
   "nbconvert_exporter": "python",
   "pygments_lexer": "ipython3",
   "version": "3.10.4"
  }
 },
 "nbformat": 4,
 "nbformat_minor": 5
}
