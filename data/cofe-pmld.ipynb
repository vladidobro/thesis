{
 "cells": [
  {
   "cell_type": "code",
   "execution_count": 1,
   "id": "9b343ee5",
   "metadata": {},
   "outputs": [],
   "source": [
    "import anal as pm\n",
    "\n",
    "import matplotlib as mpl\n",
    "import matplotlib.pyplot as plt\n",
    "import numpy as np\n",
    "import pandas as pd\n",
    "\n",
    "plt.rc('font', size=10) #controls default text size\n",
    "plt.rc('axes', titlesize=8) #fontsize of the title\n",
    "plt.rc('axes', labelsize=10) #fontsize of the x and y labels\n",
    "plt.rc('xtick', labelsize=8) #fontsize of the x tick labels\n",
    "plt.rc('ytick', labelsize=8) #fontsize of the y tick labels\n",
    "plt.rc('legend', fontsize=8) #fontsize of the legend\n",
    "\n",
    "import locale\n",
    "locale.setlocale(locale.LC_ALL, 'cs_CZ.utf8')\n",
    "plt.rcParams['axes.formatter.use_locale'] = True"
   ]
  },
  {
   "cell_type": "markdown",
   "id": "bb0980eb",
   "metadata": {},
   "source": [
    "## Zpracovani"
   ]
  },
  {
   "cell_type": "code",
   "execution_count": 2,
   "id": "7ef6099e",
   "metadata": {},
   "outputs": [
    {
     "name": "stdout",
     "output_type": "stream",
     "text": [
      "loading set: 0\n",
      "loading set: 1\n",
      "loading set: 2\n",
      "loading set: 3\n",
      "loading set: 4\n",
      "loading set: 5\n",
      "loading set: 6\n",
      "loading set: 7\n",
      "loading set: 8\n",
      "preprocessing set: 0\n",
      "preprocessing set: 1\n",
      "preprocessing set: 2\n",
      "preprocessing set: 3\n",
      "preprocessing set: 4\n",
      "preprocessing set: 5\n",
      "preprocessing set: 6\n",
      "preprocessing set: 7\n",
      "preprocessing set: 8\n",
      "processing set: 0\n",
      "processing set: 1\n",
      "processing set: 2\n",
      "processing set: 3\n",
      "processing set: 4\n",
      "processing set: 5\n",
      "processing set: 6\n",
      "processing set: 7\n",
      "processing set: 8\n",
      "loading set: 0\n",
      "loading set: 1\n",
      "loading set: 2\n",
      "loading set: 3\n",
      "loading set: 4\n",
      "loading set: 5\n",
      "loading set: 6\n",
      "loading set: 7\n",
      "loading set: 8\n",
      "preprocessing set: 0\n",
      "preprocessing set: 1\n",
      "preprocessing set: 2\n",
      "preprocessing set: 3\n",
      "preprocessing set: 4\n",
      "preprocessing set: 5\n",
      "preprocessing set: 6\n",
      "preprocessing set: 7\n",
      "preprocessing set: 8\n",
      "processing set: 0\n",
      "processing set: 1\n",
      "processing set: 2\n",
      "processing set: 3\n",
      "processing set: 4\n",
      "processing set: 5\n",
      "processing set: 6\n",
      "processing set: 7\n",
      "processing set: 8\n"
     ]
    }
   ],
   "source": [
    "f1 = pm.cofe_room_t()\n",
    "f2 = pm.cofe_low_t()\n",
    "f1.df.drop(7, inplace=True)\n",
    "f1.load()\n",
    "f1.preprocess()\n",
    "f1.process()\n",
    "f2.load()\n",
    "f2.preprocess()\n",
    "f2.process()"
   ]
  },
  {
   "cell_type": "code",
   "execution_count": 3,
   "id": "bd6ffe7e",
   "metadata": {
    "scrolled": true
   },
   "outputs": [
    {
     "name": "stdout",
     "output_type": "stream",
     "text": [
      "room T\n",
      "analyzing set: 0\n",
      "analyzing set: 1\n",
      "analyzing set: 2\n",
      "analyzing set: 3\n",
      "analyzing set: 4\n",
      "analyzing set: 5\n",
      "analyzing set: 6\n",
      "analyzing set: 7\n",
      "analyzing set: 8\n",
      "postprocessing\n",
      "low T\n",
      "analyzing set: 0\n",
      "analyzing set: 1\n",
      "analyzing set: 2\n",
      "analyzing set: 3\n",
      "analyzing set: 4\n",
      "analyzing set: 5\n",
      "analyzing set: 6\n",
      "analyzing set: 7\n",
      "analyzing set: 8\n",
      "postprocessing\n"
     ]
    }
   ],
   "source": [
    "print('room T')\n",
    "f1.analyze()\n",
    "print('low T')\n",
    "f2.analyze()"
   ]
  },
  {
   "cell_type": "markdown",
   "id": "0240f75e",
   "metadata": {},
   "source": [
    "## Kreslení"
   ]
  },
  {
   "cell_type": "code",
   "execution_count": 15,
   "id": "4c63dd04",
   "metadata": {
    "scrolled": true
   },
   "outputs": [
    {
     "data": {
      "image/png": "[encoded data removed]",
      "text/plain": [
       "<Figure size 360x216 with 1 Axes>"
      ]
     },
     "metadata": {
      "needs_background": "light"
     },
     "output_type": "display_data"
    }
   ],
   "source": [
    "fig, ax = plt.subplots(figsize=(5,3),constrained_layout=True)\n",
    "\n",
    "lw=0.5\n",
    "\n",
    "ax.plot(f1.df['wavelength'], f1.df['Pp'], marker='o', color='C0', linewidth=lw, label=r'$P_+$, 295 K')\n",
    "ax.plot(f1.df['wavelength'], f1.df['Pm'], marker='o', color='C1', linewidth=lw, label=r'$P_-$, 295 K')\n",
    "ax.plot(f2.df['wavelength'], f2.df['Pp'], marker='o', color='C0', fillstyle='none', linewidth=lw, linestyle='dashed', label=r'$P_+$, 15 K')\n",
    "ax.plot(f2.df['wavelength'], f2.df['Pm'], marker='o', color='C1', fillstyle='none', linewidth=lw, linestyle='dashed', label=r'$P_-$, 15 K')\n",
    "\n",
    "ax.axhline(y=0, color='black', linewidth=1)\n",
    "\n",
    "ax.set_xlabel(r'$\\lambda$ (nm)')\n",
    "ax.set_ylabel(r'MO koeficient (mrad)')\n",
    "\n",
    "ax.legend(bbox_to_anchor=(1,1))\n",
    "\n",
    "fig.savefig('out/cofe-pmld.pdf')\n",
    "\n",
    "D = pd.DataFrame({'lambda':f1.df.reset_index()['wavelength'],\n",
    "                  'P+ room':f1.df.reset_index()['Pp'],\n",
    "                  'P- room':f1.df.reset_index()['Pm'],\n",
    "                  'P+ low':f2.df['Pp'],\n",
    "                  'P- low':f2.df['Pm']})\n",
    "D.to_csv('out-nemec/5_04/data.csv')"
   ]
  },
  {
   "cell_type": "code",
   "execution_count": 5,
   "id": "05a5734c",
   "metadata": {},
   "outputs": [
    {
     "data": {
      "text/plain": [
       "<matplotlib.legend.Legend at 0x7ff724508d00>"
      ]
     },
     "execution_count": 5,
     "metadata": {},
     "output_type": "execute_result"
    },
    {
     "data": {
      "image/png": "[encoded data removed]",
      "text/plain": [
       "<Figure size 360x216 with 1 Axes>"
      ]
     },
     "metadata": {
      "needs_background": "light"
     },
     "output_type": "display_data"
    }
   ],
   "source": [
    "fig, ax = plt.subplots(figsize=(5,3),constrained_layout=True)\n",
    "\n",
    "ax.errorbar(f1.df['wavelength'], f1.df['Pp'], 0.02, color='C0', linewidth=0.5, capsize=2, label=r'$P_+$, 295 K')\n",
    "ax.errorbar(f1.df['wavelength'], f1.df['Pm'], 0.02, color='C1', linewidth=0.5, label=r'$P_-$, 295 K')\n",
    "ax.plot(f2.df['wavelength'], f2.df['Pp'], 'x', color='C0', label=r'$P_+$, 15 K')\n",
    "ax.plot(f2.df['wavelength'], f2.df['Pm'], 'x', color='C1', label=r'$P_-$, 15 K')\n",
    "\n",
    "ax.axhline(y=0, color='black', linewidth=1)\n",
    "\n",
    "ax.set_xlabel(r'$\\lambda$ (nm)')\n",
    "ax.set_ylabel(r'MO koeficient (mrad)')\n",
    "\n",
    "ax.legend(bbox_to_anchor=(1,1))"
   ]
  },
  {
   "cell_type": "markdown",
   "id": "9360a20a",
   "metadata": {},
   "source": [
    "## Chyby"
   ]
  },
  {
   "cell_type": "code",
   "execution_count": 6,
   "id": "4dc07151",
   "metadata": {
    "scrolled": true
   },
   "outputs": [
    {
     "data": {
      "image/png": "[encoded data removed]",
      "text/plain": [
       "<Figure size 432x288 with 2 Axes>"
      ]
     },
     "metadata": {
      "needs_background": "light"
     },
     "output_type": "display_data"
    }
   ],
   "source": [
    "def f(i,j):\n",
    "    return (f1 if j==1 else f2).df['dPij'].apply(lambda x: x[i])\n",
    "\n",
    "fig, (ax1, ax2) = plt.subplots(1,2)\n",
    "for i in range(4):\n",
    "    ax1.plot(f1.df['wavelength'], f(i,1))\n",
    "    ax2.plot(f2.df['wavelength'], f(i,2))"
   ]
  },
  {
   "cell_type": "code",
   "execution_count": 7,
   "id": "2bda979f",
   "metadata": {},
   "outputs": [
    {
     "ename": "SyntaxError",
     "evalue": "invalid syntax (197955649.py, line 1)",
     "output_type": "error",
     "traceback": [
      "\u001b[0;36m  Input \u001b[0;32mIn [7]\u001b[0;36m\u001b[0m\n\u001b[0;31m    f1[5].\u001b[0m\n\u001b[0m          ^\u001b[0m\n\u001b[0;31mSyntaxError\u001b[0m\u001b[0;31m:\u001b[0m invalid syntax\n"
     ]
    }
   ],
   "source": [
    "f1[5]."
   ]
  },
  {
   "cell_type": "code",
   "execution_count": null,
   "id": "4f1532f9",
   "metadata": {},
   "outputs": [],
   "source": [
    "print(\"rt+\")\n",
    "print(f1.df['Pip'])\n",
    "print(\"rt-\")\n",
    "print(f1.df['Pim'])\n",
    "print(\"lt+\")\n",
    "print(f2.df['Pip'])\n",
    "print(\"lt-\")\n",
    "print(f2.df['Pim'])"
   ]
  },
  {
   "cell_type": "code",
   "execution_count": null,
   "id": "68d5d1c4",
   "metadata": {},
   "outputs": [],
   "source": [
    "ax = plt.gca()\n",
    "ax.plot(f1.df['wavelength'], f1.df['Pp']+f1.df['Pm'])\n",
    "ax.plot(f1.df['wavelength'], f1.df['Pp']-f1.df['Pm'])"
   ]
  },
  {
   "cell_type": "code",
   "execution_count": 11,
   "id": "428322a6",
   "metadata": {},
   "outputs": [
    {
     "data": {
      "text/html": [
       "<div>\n",
       "<style scoped>\n",
       "    .dataframe tbody tr th:only-of-type {\n",
       "        vertical-align: middle;\n",
       "    }\n",
       "\n",
       "    .dataframe tbody tr th {\n",
       "        vertical-align: top;\n",
       "    }\n",
       "\n",
       "    .dataframe thead th {\n",
       "        text-align: right;\n",
       "    }\n",
       "</style>\n",
       "<table border=\"1\" class=\"dataframe\">\n",
       "  <thead>\n",
       "    <tr style=\"text-align: right;\">\n",
       "      <th></th>\n",
       "      <th>set</th>\n",
       "      <th>obj</th>\n",
       "      <th>wavelength</th>\n",
       "      <th>flags</th>\n",
       "      <th>sample_rotation</th>\n",
       "      <th>hext</th>\n",
       "      <th>k_canon</th>\n",
       "      <th>Pij</th>\n",
       "      <th>dPij</th>\n",
       "      <th>Ppm</th>\n",
       "      <th>Pp</th>\n",
       "      <th>Pm</th>\n",
       "      <th>Pip</th>\n",
       "      <th>Pim</th>\n",
       "    </tr>\n",
       "  </thead>\n",
       "  <tbody>\n",
       "    <tr>\n",
       "      <th>0</th>\n",
       "      <td>0460</td>\n",
       "      <td>&lt;anal.file_import.SetRotmld o...</td>\n",
       "      <td>460</td>\n",
       "      <td>None</td>\n",
       "      <td>0</td>\n",
       "      <td>207</td>\n",
       "      <td>{'ku': 13.454223267286576, 'phiu': -21.7074372...</td>\n",
       "      <td>[-0.013918999306733236, 0.040575667572776385, ...</td>\n",
       "      <td>[0.0022479926577494316, 0.0018060626624879443,...</td>\n",
       "      <td>[(-0.04527464844247059+0.009308200779463018j),...</td>\n",
       "      <td>-0.046222</td>\n",
       "      <td>-0.085974</td>\n",
       "      <td>-5.808895</td>\n",
       "      <td>1.537127</td>\n",
       "    </tr>\n",
       "    <tr>\n",
       "      <th>1</th>\n",
       "      <td>0530</td>\n",
       "      <td>&lt;anal.file_import.SetRotmld o...</td>\n",
       "      <td>530</td>\n",
       "      <td>None</td>\n",
       "      <td>0</td>\n",
       "      <td>207</td>\n",
       "      <td>{'ku': 11.288183305707827, 'phiu': -17.1692990...</td>\n",
       "      <td>[-0.014690374775108806, -0.14293574640978438, ...</td>\n",
       "      <td>[0.00182643857898471, 0.0015596931840813541, 0...</td>\n",
       "      <td>[(-0.1660585385764015+0.01686008670630159j), (...</td>\n",
       "      <td>-0.166912</td>\n",
       "      <td>-0.023224</td>\n",
       "      <td>-2.898715</td>\n",
       "      <td>-2.680308</td>\n",
       "    </tr>\n",
       "    <tr>\n",
       "      <th>2</th>\n",
       "      <td>0620</td>\n",
       "      <td>&lt;anal.file_import.SetRotmld o...</td>\n",
       "      <td>620</td>\n",
       "      <td>None</td>\n",
       "      <td>0</td>\n",
       "      <td>207</td>\n",
       "      <td>{'ku': 10.649682570850674, 'phiu': -20.0063353...</td>\n",
       "      <td>[-0.04815795108235633, -0.3046413295647873, 0....</td>\n",
       "      <td>[0.0006065256753148719, 0.0005037490375661933,...</td>\n",
       "      <td>[(-0.21731245383458736+0.028918524045887923j),...</td>\n",
       "      <td>-0.219228</td>\n",
       "      <td>0.089423</td>\n",
       "      <td>-3.790007</td>\n",
       "      <td>-6.212180</td>\n",
       "    </tr>\n",
       "    <tr>\n",
       "      <th>3</th>\n",
       "      <td>0710</td>\n",
       "      <td>&lt;anal.file_import.SetRotmld o...</td>\n",
       "      <td>710</td>\n",
       "      <td>None</td>\n",
       "      <td>0</td>\n",
       "      <td>207</td>\n",
       "      <td>{'ku': 11.394691095467971, 'phiu': -17.3910766...</td>\n",
       "      <td>[-0.020318559274972312, -0.2955836237371501, -...</td>\n",
       "      <td>[0.0005085389761408363, 0.0004249570017727391,...</td>\n",
       "      <td>[(-0.14050314036325173+0.0037264058206268724j)...</td>\n",
       "      <td>-0.140553</td>\n",
       "      <td>0.155966</td>\n",
       "      <td>-0.759617</td>\n",
       "      <td>-3.053439</td>\n",
       "    </tr>\n",
       "    <tr>\n",
       "      <th>4</th>\n",
       "      <td>0810</td>\n",
       "      <td>&lt;anal.file_import.SetRotmld o...</td>\n",
       "      <td>810</td>\n",
       "      <td>None</td>\n",
       "      <td>0</td>\n",
       "      <td>207</td>\n",
       "      <td>{'ku': 9.829887558632736, 'phiu': -22.64113414...</td>\n",
       "      <td>[-0.01338023404194222, -0.08815782195401142, -...</td>\n",
       "      <td>[0.00034477010413726646, 0.000285697096733042,...</td>\n",
       "      <td>[(0.0595444955273039-0.00012418743055682586j),...</td>\n",
       "      <td>0.059545</td>\n",
       "      <td>0.148318</td>\n",
       "      <td>-0.059749</td>\n",
       "      <td>-2.612014</td>\n",
       "    </tr>\n",
       "    <tr>\n",
       "      <th>5</th>\n",
       "      <td>0920</td>\n",
       "      <td>&lt;anal.file_import.SetRotmld o...</td>\n",
       "      <td>920</td>\n",
       "      <td>None</td>\n",
       "      <td>0</td>\n",
       "      <td>207</td>\n",
       "      <td>{'ku': 11.699851224360561, 'phiu': -19.0870625...</td>\n",
       "      <td>[5.57717434241118e-05, 0.23877806473078017, -0...</td>\n",
       "      <td>[0.00048301001413126227, 0.0004024054255703148...</td>\n",
       "      <td>[(0.3528031559450091-0.012771124571489531j), (...</td>\n",
       "      <td>0.353034</td>\n",
       "      <td>0.114732</td>\n",
       "      <td>-1.036573</td>\n",
       "      <td>-3.181486</td>\n",
       "    </tr>\n",
       "    <tr>\n",
       "      <th>6</th>\n",
       "      <td>1050</td>\n",
       "      <td>&lt;anal.file_import.SetRotmld o...</td>\n",
       "      <td>1050</td>\n",
       "      <td>None</td>\n",
       "      <td>0</td>\n",
       "      <td>207</td>\n",
       "      <td>{'ku': 10.879304126783879, 'phiu': -20.4838240...</td>\n",
       "      <td>[0.0177157705899321, 0.6663549621649748, -0.83...</td>\n",
       "      <td>[0.0011564312448253046, 0.0009664560055630188,...</td>\n",
       "      <td>[(0.7512140758815615-0.024804735044192623j), (...</td>\n",
       "      <td>0.751623</td>\n",
       "      <td>0.085155</td>\n",
       "      <td>-0.945596</td>\n",
       "      <td>-2.387645</td>\n",
       "    </tr>\n",
       "    <tr>\n",
       "      <th>7</th>\n",
       "      <td>1200</td>\n",
       "      <td>&lt;anal.file_import.SetRotmld o...</td>\n",
       "      <td>1200</td>\n",
       "      <td>None</td>\n",
       "      <td>0</td>\n",
       "      <td>207</td>\n",
       "      <td>{'ku': 9.950725236289951, 'phiu': -19.20077429...</td>\n",
       "      <td>[0.028356557796432244, 0.9878537170223802, -1....</td>\n",
       "      <td>[0.0010904974655651916, 0.0009089546983903666,...</td>\n",
       "      <td>[(1.074825211111786-0.03453981172525674j), (0....</td>\n",
       "      <td>1.075380</td>\n",
       "      <td>0.087191</td>\n",
       "      <td>-0.920291</td>\n",
       "      <td>-2.033306</td>\n",
       "    </tr>\n",
       "    <tr>\n",
       "      <th>8</th>\n",
       "      <td>1450</td>\n",
       "      <td>&lt;anal.file_import.SetRotmld o...</td>\n",
       "      <td>1450</td>\n",
       "      <td>None</td>\n",
       "      <td>0</td>\n",
       "      <td>207</td>\n",
       "      <td>{'ku': 11.431803783844124, 'phiu': -18.7760273...</td>\n",
       "      <td>[0.03483287727798044, 1.1412006642864103, -1.3...</td>\n",
       "      <td>[0.0012544679861889593, 0.0010440101873915007,...</td>\n",
       "      <td>[(1.2206956652766068-0.0392979470538692j), (0....</td>\n",
       "      <td>1.221328</td>\n",
       "      <td>0.079620</td>\n",
       "      <td>-0.921945</td>\n",
       "      <td>-1.607404</td>\n",
       "    </tr>\n",
       "  </tbody>\n",
       "</table>\n",
       "</div>"
      ],
      "text/plain": [
       "    set                                                obj  wavelength flags  \\\n",
       "0  0460  <anal.file_import.SetRotmld o...         460  None   \n",
       "1  0530  <anal.file_import.SetRotmld o...         530  None   \n",
       "2  0620  <anal.file_import.SetRotmld o...         620  None   \n",
       "3  0710  <anal.file_import.SetRotmld o...         710  None   \n",
       "4  0810  <anal.file_import.SetRotmld o...         810  None   \n",
       "5  0920  <anal.file_import.SetRotmld o...         920  None   \n",
       "6  1050  <anal.file_import.SetRotmld o...        1050  None   \n",
       "7  1200  <anal.file_import.SetRotmld o...        1200  None   \n",
       "8  1450  <anal.file_import.SetRotmld o...        1450  None   \n",
       "\n",
       "   sample_rotation  hext                                            k_canon  \\\n",
       "0                0   207  {'ku': 13.454223267286576, 'phiu': -21.7074372...   \n",
       "1                0   207  {'ku': 11.288183305707827, 'phiu': -17.1692990...   \n",
       "2                0   207  {'ku': 10.649682570850674, 'phiu': -20.0063353...   \n",
       "3                0   207  {'ku': 11.394691095467971, 'phiu': -17.3910766...   \n",
       "4                0   207  {'ku': 9.829887558632736, 'phiu': -22.64113414...   \n",
       "5                0   207  {'ku': 11.699851224360561, 'phiu': -19.0870625...   \n",
       "6                0   207  {'ku': 10.879304126783879, 'phiu': -20.4838240...   \n",
       "7                0   207  {'ku': 9.950725236289951, 'phiu': -19.20077429...   \n",
       "8                0   207  {'ku': 11.431803783844124, 'phiu': -18.7760273...   \n",
       "\n",
       "                                                 Pij  \\\n",
       "0  [-0.013918999306733236, 0.040575667572776385, ...   \n",
       "1  [-0.014690374775108806, -0.14293574640978438, ...   \n",
       "2  [-0.04815795108235633, -0.3046413295647873, 0....   \n",
       "3  [-0.020318559274972312, -0.2955836237371501, -...   \n",
       "4  [-0.01338023404194222, -0.08815782195401142, -...   \n",
       "5  [5.57717434241118e-05, 0.23877806473078017, -0...   \n",
       "6  [0.0177157705899321, 0.6663549621649748, -0.83...   \n",
       "7  [0.028356557796432244, 0.9878537170223802, -1....   \n",
       "8  [0.03483287727798044, 1.1412006642864103, -1.3...   \n",
       "\n",
       "                                                dPij  \\\n",
       "0  [0.0022479926577494316, 0.0018060626624879443,...   \n",
       "1  [0.00182643857898471, 0.0015596931840813541, 0...   \n",
       "2  [0.0006065256753148719, 0.0005037490375661933,...   \n",
       "3  [0.0005085389761408363, 0.0004249570017727391,...   \n",
       "4  [0.00034477010413726646, 0.000285697096733042,...   \n",
       "5  [0.00048301001413126227, 0.0004024054255703148...   \n",
       "6  [0.0011564312448253046, 0.0009664560055630188,...   \n",
       "7  [0.0010904974655651916, 0.0009089546983903666,...   \n",
       "8  [0.0012544679861889593, 0.0010440101873915007,...   \n",
       "\n",
       "                                                 Ppm        Pp        Pm  \\\n",
       "0  [(-0.04527464844247059+0.009308200779463018j),... -0.046222 -0.085974   \n",
       "1  [(-0.1660585385764015+0.01686008670630159j), (... -0.166912 -0.023224   \n",
       "2  [(-0.21731245383458736+0.028918524045887923j),... -0.219228  0.089423   \n",
       "3  [(-0.14050314036325173+0.0037264058206268724j)... -0.140553  0.155966   \n",
       "4  [(0.0595444955273039-0.00012418743055682586j),...  0.059545  0.148318   \n",
       "5  [(0.3528031559450091-0.012771124571489531j), (...  0.353034  0.114732   \n",
       "6  [(0.7512140758815615-0.024804735044192623j), (...  0.751623  0.085155   \n",
       "7  [(1.074825211111786-0.03453981172525674j), (0....  1.075380  0.087191   \n",
       "8  [(1.2206956652766068-0.0392979470538692j), (0....  1.221328  0.079620   \n",
       "\n",
       "        Pip       Pim  \n",
       "0 -5.808895  1.537127  \n",
       "1 -2.898715 -2.680308  \n",
       "2 -3.790007 -6.212180  \n",
       "3 -0.759617 -3.053439  \n",
       "4 -0.059749 -2.612014  \n",
       "5 -1.036573 -3.181486  \n",
       "6 -0.945596 -2.387645  \n",
       "7 -0.920291 -2.033306  \n",
       "8 -0.921945 -1.607404  "
      ]
     },
     "execution_count": 11,
     "metadata": {},
     "output_type": "execute_result"
    }
   ],
   "source": [
    "f2.df"
   ]
  },
  {
   "cell_type": "code",
   "execution_count": null,
   "id": "af7f10d9",
   "metadata": {},
   "outputs": [],
   "source": []
  }
 ],
 "metadata": {
  "kernelspec": {
   "display_name": "Python 3 (ipykernel)",
   "language": "python",
   "name": "python3"
  },
  "language_info": {
   "codemirror_mode": {
    "name": "ipython",
    "version": 3
   },
   "file_extension": ".py",
   "mimetype": "text/x-python",
   "name": "python",
   "nbconvert_exporter": "python",
   "pygments_lexer": "ipython3",
   "version": "3.10.4"
  }
 },
 "nbformat": 4,
 "nbformat_minor": 5
}
