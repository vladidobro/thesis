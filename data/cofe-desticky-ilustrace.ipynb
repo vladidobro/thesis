{
 "cells": [
  {
   "cell_type": "code",
   "execution_count": 1,
   "id": "99556d7b",
   "metadata": {},
   "outputs": [],
   "source": [
    "import anal as pm\n",
    "\n",
    "import matplotlib as mpl\n",
    "import matplotlib.pyplot as plt\n",
    "import numpy as np\n",
    "import pandas as pd\n",
    "\n",
    "plt.rc('font', size=10) #controls default text size\n",
    "plt.rc('axes', titlesize=8) #fontsize of the title\n",
    "plt.rc('axes', labelsize=10) #fontsize of the x and y labels\n",
    "plt.rc('xtick', labelsize=8) #fontsize of the x tick labels\n",
    "plt.rc('ytick', labelsize=8) #fontsize of the y tick labels\n",
    "plt.rc('legend', fontsize=8) #fontsize of the legend\n",
    "\n",
    "import locale\n",
    "locale.setlocale(locale.LC_ALL, 'de_DE.utf8')\n",
    "plt.rcParams['axes.formatter.use_locale'] = True"
   ]
  },
  {
   "cell_type": "code",
   "execution_count": 2,
   "id": "c46d4e49",
   "metadata": {
    "scrolled": false
   },
   "outputs": [
    {
     "name": "stdout",
     "output_type": "stream",
     "text": [
      "loading set: 0\n",
      "loading set: 1\n",
      "loading set: 2\n",
      "loading set: 3\n",
      "loading set: 4\n",
      "loading set: 5\n",
      "loading set: 6\n",
      "loading set: 7\n",
      "loading set: 8\n",
      "loading set: 9\n",
      "preprocessing set: 0\n",
      "preprocessing set: 1\n",
      "preprocessing set: 2\n",
      "preprocessing set: 3\n",
      "preprocessing set: 4\n",
      "preprocessing set: 5\n",
      "preprocessing set: 6\n",
      "preprocessing set: 7\n",
      "preprocessing set: 8\n",
      "preprocessing set: 9\n"
     ]
    }
   ],
   "source": [
    "f = pm.cofe_room_t()\n",
    "f.load()\n",
    "f.preprocess()\n",
    "for ff in f:\n",
    "    ff.collect_merge()"
   ]
  },
  {
   "cell_type": "code",
   "execution_count": 3,
   "id": "d095d2ba",
   "metadata": {},
   "outputs": [
    {
     "data": {
      "image/png": "[encoded data removed]",
      "text/plain": [
       "<Figure size 216x129.6 with 1 Axes>"
      ]
     },
     "metadata": {
      "needs_background": "light"
     },
     "output_type": "display_data"
    }
   ],
   "source": [
    "fig, ax = plt.subplots(figsize=(3,1.8), constrained_layout=True)\n",
    "g = f[4].data\n",
    "phih = g['phih']\n",
    "\n",
    "ax.plot(phih, g[0.], color='C0', label='0')\n",
    "ax.plot(phih, g[45.], color='C1', label='45')\n",
    "ax.plot(phih, g[90.], color='C2', label='90')\n",
    "ax.plot(phih, g[135.], color='C3', label='135')\n",
    "ax.plot(phih, g[180.], color='C0', linestyle='dashed')\n",
    "ax.plot(phih, g[225.], color='C1', linestyle='dashed')\n",
    "ax.plot(phih, g[270.], color='C2', linestyle='dashed')\n",
    "ax.plot(phih, g[315.], color='C3', linestyle='dashed')\n",
    "\n",
    "ax.legend(title=r'$\\beta$ ($\\degree$)', borderpad=0.2,bbox_to_anchor=(1,1))\n",
    "ax.set_xlabel(r'$\\varphi_H$ ($\\degree$)')\n",
    "ax.set_ylabel(r'$\\Delta\\beta$ (mrad)')\n",
    "ax.text(-0.1, 1.08, \"(a)\", transform=ax.transAxes)\n",
    "\n",
    "fig.savefig('out/cofe_desticky_ilustrace.pdf')"
   ]
  },
  {
   "cell_type": "code",
   "execution_count": null,
   "id": "bf38a9ba",
   "metadata": {},
   "outputs": [],
   "source": []
  },
  {
   "cell_type": "code",
   "execution_count": null,
   "id": "d8513f52",
   "metadata": {},
   "outputs": [],
   "source": []
  }
 ],
 "metadata": {
  "kernelspec": {
   "display_name": "Python 3 (ipykernel)",
   "language": "python",
   "name": "python3"
  },
  "language_info": {
   "codemirror_mode": {
    "name": "ipython",
    "version": 3
   },
   "file_extension": ".py",
   "mimetype": "text/x-python",
   "name": "python",
   "nbconvert_exporter": "python",
   "pygments_lexer": "ipython3",
   "version": "3.10.4"
  }
 },
 "nbformat": 4,
 "nbformat_minor": 5
}
